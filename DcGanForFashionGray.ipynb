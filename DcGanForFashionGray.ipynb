{
  "nbformat": 4,
  "nbformat_minor": 0,
  "metadata": {
    "colab": {
      "name": "DcGanForFashionGray.ipynb",
      "provenance": []
    },
    "kernelspec": {
      "name": "python3",
      "display_name": "Python 3"
    },
    "language_info": {
      "name": "python"
    }
  },
  "cells": [
    {
      "cell_type": "code",
      "execution_count": 1,
      "metadata": {
        "id": "KBBOsJAvRy8R"
      },
      "outputs": [],
      "source": [
        "import tensorflow as tf\n",
        "\n",
        "from tensorflow import keras\n",
        "from tensorflow.keras.datasets import fashion_mnist\n",
        "from tensorflow.keras.models import Sequential\n",
        "from tensorflow.keras import layers\n",
        "from tensorflow.keras.models import Model\n",
        "from tensorflow.keras.optimizers import Adam\n",
        "\n",
        "from matplotlib import pyplot as plt"
      ]
    },
    {
      "cell_type": "markdown",
      "source": [
        "data load"
      ],
      "metadata": {
        "id": "a44awmyhAw35"
      }
    },
    {
      "cell_type": "code",
      "source": [
        "# load the Fashion MNIST dataset and it's OK to use just the training data\n",
        "(train_images, train_labels), (_, _) = tf.keras.datasets.fashion_mnist.load_data()"
      ],
      "metadata": {
        "colab": {
          "base_uri": "https://localhost:8080/"
        },
        "id": "RxI_kc_BToQ3",
        "outputId": "354beb0c-c60a-4610-bd3a-204efef64dd1"
      },
      "execution_count": 2,
      "outputs": [
        {
          "output_type": "stream",
          "name": "stdout",
          "text": [
            "Downloading data from https://storage.googleapis.com/tensorflow/tf-keras-datasets/train-labels-idx1-ubyte.gz\n",
            "32768/29515 [=================================] - 0s 0us/step\n",
            "40960/29515 [=========================================] - 0s 0us/step\n",
            "Downloading data from https://storage.googleapis.com/tensorflow/tf-keras-datasets/train-images-idx3-ubyte.gz\n",
            "26427392/26421880 [==============================] - 0s 0us/step\n",
            "26435584/26421880 [==============================] - 0s 0us/step\n",
            "Downloading data from https://storage.googleapis.com/tensorflow/tf-keras-datasets/t10k-labels-idx1-ubyte.gz\n",
            "16384/5148 [===============================================================================================] - 0s 0us/step\n",
            "Downloading data from https://storage.googleapis.com/tensorflow/tf-keras-datasets/t10k-images-idx3-ubyte.gz\n",
            "4423680/4422102 [==============================] - 0s 0us/step\n",
            "4431872/4422102 [==============================] - 0s 0us/step\n"
          ]
        }
      ]
    },
    {
      "cell_type": "code",
      "source": [
        "train_images.shape\n",
        "type(train_images)"
      ],
      "metadata": {
        "colab": {
          "base_uri": "https://localhost:8080/"
        },
        "id": "OfpFYgn_UIwX",
        "outputId": "8389cd95-833b-4fa8-e5cf-403ed729a140"
      },
      "execution_count": 3,
      "outputs": [
        {
          "output_type": "execute_result",
          "data": {
            "text/plain": [
              "numpy.ndarray"
            ]
          },
          "metadata": {},
          "execution_count": 3
        }
      ]
    },
    {
      "cell_type": "markdown",
      "source": [
        "data visualization"
      ],
      "metadata": {
        "id": "t0yHw-S5BA3t"
      }
    },
    {
      "cell_type": "code",
      "source": [
        "plt.figure()\n",
        "plt.imshow(train_images[0], cmap='gray')\n",
        "plt.show()"
      ],
      "metadata": {
        "colab": {
          "base_uri": "https://localhost:8080/",
          "height": 265
        },
        "id": "lowLbOTrUP5m",
        "outputId": "73c562d8-4aef-4ab8-bcf1-c3410057d3b3"
      },
      "execution_count": 6,
      "outputs": [
        {
          "output_type": "display_data",
          "data": {
            "text/plain": [
              "<Figure size 432x288 with 1 Axes>"
            ],
            "image/png": "[encoded data removed]"
          },
          "metadata": {
            "needs_background": "light"
          }
        }
      ]
    },
    {
      "cell_type": "markdown",
      "source": [
        "data preprocessing"
      ],
      "metadata": {
        "id": "HcaCKPOyUVUX"
      }
    },
    {
      "cell_type": "code",
      "source": [
        "# Reshape data and also convert the data type to 'float32'\n",
        "print(train_images.shape)\n",
        "train_images = train_images.reshape(train_images.shape[0], 28, 28, 1).astype('float32')\n",
        "print(train_images.shape)\n",
        "\n",
        "# Normalize the images to [-1, 1] which is the range of the tanh activation\n",
        "train_images = (train_images - 127.5) / 127.5"
      ],
      "metadata": {
        "colab": {
          "base_uri": "https://localhost:8080/"
        },
        "id": "HEZqf_5qUYa3",
        "outputId": "629884cb-17dd-40f9-a2e7-d53e231f955d"
      },
      "execution_count": 7,
      "outputs": [
        {
          "output_type": "stream",
          "name": "stdout",
          "text": [
            "(60000, 28, 28)\n",
            "(60000, 28, 28, 1)\n"
          ]
        }
      ]
    },
    {
      "cell_type": "code",
      "source": [
        "# latent dimension of the random noise\n",
        "LATENT_DIM = 100 \n",
        "# weight initializer for G per DCGAN paper\n",
        "WEIGHT_INIT = tf.keras.initializers.RandomNormal(mean=0.0, stddev=0.02) \n",
        "# number of channels, 1 for gray scale and 3 for color images\n",
        "CHANNELS = 1"
      ],
      "metadata": {
        "id": "J2bHTlEeUinM"
      },
      "execution_count": 8,
      "outputs": []
    },
    {
      "cell_type": "markdown",
      "source": [
        "Generator"
      ],
      "metadata": {
        "id": "jEHeBjtvCTgU"
      }
    },
    {
      "cell_type": "code",
      "source": [
        "def build_generator():\n",
        "    # create a Keras Sequential model \n",
        "    model = Sequential(name=\"generator\")\n",
        "\n",
        "    # prepare for reshape: FC => BN => RN layers, note: input shape defined in the 1st Dense layer  \n",
        "    model.add(layers.Dense(7 * 7 * 256, input_dim=LATENT_DIM))\n",
        "    model.add(layers.BatchNormalization())\n",
        "    model.add(layers.ReLU())\n",
        "\n",
        "    # 1D => 3D: reshape the output of the previous layer \n",
        "    model.add(layers.Reshape((7, 7, 256)))\n",
        "\n",
        "    # upsample to 14x14: apply a transposed CONV => BN => RELU\n",
        "    model.add(layers.Conv2DTranspose(128, (5, 5), strides=(2, 2),padding=\"same\", kernel_initializer=WEIGHT_INIT))\n",
        "    model.add(layers.BatchNormalization())\n",
        "    model.add((layers.ReLU()))\n",
        "\n",
        "    # upsample to 28x28: apply a transposed CONV => BN => RELU\n",
        "    model.add(layers.Conv2DTranspose(64, (5, 5), strides=(2, 2),padding=\"same\", kernel_initializer=WEIGHT_INIT))\n",
        "    model.add(layers.BatchNormalization())\n",
        "    model.add((layers.ReLU()))\n",
        "\n",
        "    # final layer: Conv2D with tanh activation\n",
        "    model.add(layers.Conv2D(CHANNELS, (5, 5), padding=\"same\", activation=\"tanh\"))\n",
        "\n",
        "    # return the generator model\n",
        "    return model"
      ],
      "metadata": {
        "id": "FONwnEzgUmGN"
      },
      "execution_count": 9,
      "outputs": []
    },
    {
      "cell_type": "code",
      "source": [
        "# build the generator model\n",
        "generator = build_generator()\n",
        "generator.summary()"
      ],
      "metadata": {
        "colab": {
          "base_uri": "https://localhost:8080/"
        },
        "id": "Otp2xKh3UrUY",
        "outputId": "33b32349-9dfb-4a0a-dd51-e60706ff5586"
      },
      "execution_count": 10,
      "outputs": [
        {
          "output_type": "stream",
          "name": "stdout",
          "text": [
            "Model: \"generator\"\n",
            "_________________________________________________________________\n",
            " Layer (type)                Output Shape              Param #   \n",
            "=================================================================\n",
            " dense (Dense)               (None, 12544)             1266944   \n",
            "                                                                 \n",
            " batch_normalization (BatchN  (None, 12544)            50176     \n",
            " ormalization)                                                   \n",
            "                                                                 \n",
            " re_lu (ReLU)                (None, 12544)             0         \n",
            "                                                                 \n",
            " reshape (Reshape)           (None, 7, 7, 256)         0         \n",
            "                                                                 \n",
            " conv2d_transpose (Conv2DTra  (None, 14, 14, 128)      819328    \n",
            " nspose)                                                         \n",
            "                                                                 \n",
            " batch_normalization_1 (Batc  (None, 14, 14, 128)      512       \n",
            " hNormalization)                                                 \n",
            "                                                                 \n",
            " re_lu_1 (ReLU)              (None, 14, 14, 128)       0         \n",
            "                                                                 \n",
            " conv2d_transpose_1 (Conv2DT  (None, 28, 28, 64)       204864    \n",
            " ranspose)                                                       \n",
            "                                                                 \n",
            " batch_normalization_2 (Batc  (None, 28, 28, 64)       256       \n",
            " hNormalization)                                                 \n",
            "                                                                 \n",
            " re_lu_2 (ReLU)              (None, 28, 28, 64)        0         \n",
            "                                                                 \n",
            " conv2d (Conv2D)             (None, 28, 28, 1)         1601      \n",
            "                                                                 \n",
            "=================================================================\n",
            "Total params: 2,343,681\n",
            "Trainable params: 2,318,209\n",
            "Non-trainable params: 25,472\n",
            "_________________________________________________________________\n"
          ]
        }
      ]
    },
    {
      "cell_type": "markdown",
      "source": [
        "Discriminator"
      ],
      "metadata": {
        "id": "zSUPUGqFCXn8"
      }
    },
    {
      "cell_type": "code",
      "source": [
        "def build_discriminator(width, height, depth, alpha=0.2):\n",
        "    # create a Keras Sequential model\n",
        "    model = Sequential(name=\"discriminator\")\n",
        "    input_shape = (height, width, depth)\n",
        "\n",
        "    # first set of CONV => BN => leaky ReLU layers\n",
        "    model.add(layers.Conv2D(64, (5, 5), strides=(2, 2), padding=\"same\",input_shape=input_shape))\n",
        "    model.add(layers.BatchNormalization())\n",
        "    model.add(layers.LeakyReLU(alpha=alpha))\n",
        "\n",
        "    # second set of CONV => BN => leacy ReLU layers\n",
        "    model.add(layers.Conv2D(128, (5, 5), strides=(2, 2), padding=\"same\"))\n",
        "    model.add(layers.BatchNormalization())\n",
        "    model.add(layers.LeakyReLU(alpha=alpha))\n",
        "\n",
        "    # flatten and apply dropout\n",
        "    model.add(layers.Flatten())\n",
        "    model.add(layers.Dropout(0.3))\n",
        "\n",
        "    # sigmoid in the last layer outputs a single value for binary classification\n",
        "    model.add(layers.Dense(1, activation=\"sigmoid\"))\n",
        "\n",
        "    # return the discriminator model\n",
        "    return model"
      ],
      "metadata": {
        "id": "yAj-7uJsUvro"
      },
      "execution_count": 11,
      "outputs": []
    },
    {
      "cell_type": "code",
      "source": [
        "# build the discriminator model\n",
        "discriminator = build_discriminator(28, 28, 1)\n",
        "discriminator.summary()"
      ],
      "metadata": {
        "colab": {
          "base_uri": "https://localhost:8080/"
        },
        "id": "W7hA_9jyUzVg",
        "outputId": "fd1b2c5f-1214-469c-9964-a6eda6103035"
      },
      "execution_count": 12,
      "outputs": [
        {
          "output_type": "stream",
          "name": "stdout",
          "text": [
            "Model: \"discriminator\"\n",
            "_________________________________________________________________\n",
            " Layer (type)                Output Shape              Param #   \n",
            "=================================================================\n",
            " conv2d_1 (Conv2D)           (None, 14, 14, 64)        1664      \n",
            "                                                                 \n",
            " batch_normalization_3 (Batc  (None, 14, 14, 64)       256       \n",
            " hNormalization)                                                 \n",
            "                                                                 \n",
            " leaky_re_lu (LeakyReLU)     (None, 14, 14, 64)        0         \n",
            "                                                                 \n",
            " conv2d_2 (Conv2D)           (None, 7, 7, 128)         204928    \n",
            "                                                                 \n",
            " batch_normalization_4 (Batc  (None, 7, 7, 128)        512       \n",
            " hNormalization)                                                 \n",
            "                                                                 \n",
            " leaky_re_lu_1 (LeakyReLU)   (None, 7, 7, 128)         0         \n",
            "                                                                 \n",
            " flatten (Flatten)           (None, 6272)              0         \n",
            "                                                                 \n",
            " dropout (Dropout)           (None, 6272)              0         \n",
            "                                                                 \n",
            " dense_1 (Dense)             (None, 1)                 6273      \n",
            "                                                                 \n",
            "=================================================================\n",
            "Total params: 213,633\n",
            "Trainable params: 213,249\n",
            "Non-trainable params: 384\n",
            "_________________________________________________________________\n"
          ]
        }
      ]
    },
    {
      "cell_type": "code",
      "source": [
        "class DCGAN(keras.Model):\n",
        "    def __init__(self, discriminator, generator, latent_dim):\n",
        "        super().__init__()\n",
        "        self.discriminator = discriminator\n",
        "        self.generator = generator\n",
        "        self.latent_dim = latent_dim\n",
        "        self.d_loss_metric = keras.metrics.Mean(name=\"d_loss\")\n",
        "        self.g_loss_metric = keras.metrics.Mean(name=\"g_loss\")\n",
        "\n",
        "    def compile(self, d_optimizer, g_optimizer, loss_fn):\n",
        "        super(DCGAN, self).compile()\n",
        "        self.d_optimizer = d_optimizer\n",
        "        self.g_optimizer = g_optimizer\n",
        "        self.loss_fn = loss_fn\n",
        "\n",
        "    @property\n",
        "    def metrics(self):\n",
        "        return [self.d_loss_metric, self.g_loss_metric]\n",
        "\n",
        "    def train_step(self, real_images):\n",
        "\n",
        "        batch_size = tf.shape(real_images)[0]\n",
        "        noise = tf.random.normal(shape=(batch_size, self.latent_dim))\n",
        "\n",
        "        # Step 1. Train the discriminator with both real images (label as 1) and fake images (classified as label as 0) \n",
        "        with tf.GradientTape() as tape:\n",
        "            # Compute discriminator loss on real images\n",
        "            pred_real = self.discriminator(real_images, training=True)\n",
        "            d_loss_real = self.loss_fn(tf.ones((batch_size, 1)), pred_real)\n",
        "\n",
        "            # Compute discriminator loss on fake images\n",
        "            fake_images = self.generator(noise)\n",
        "            pred_fake = self.discriminator(fake_images, training=True)\n",
        "            d_loss_fake = self.loss_fn(tf.zeros((batch_size, 1)), pred_fake)\n",
        "\n",
        "            # total discriminator loss\n",
        "            d_loss = (d_loss_real + d_loss_fake)/2\n",
        "        # Compute discriminator gradients\n",
        "        grads = tape.gradient(d_loss, self.discriminator.trainable_variables)\n",
        "        # Update discriminator weights\n",
        "        self.d_optimizer.apply_gradients(zip(grads, self.discriminator.trainable_variables))\n",
        "\n",
        "        # Step 2. Train the generator (do not update weights of the discriminator)\n",
        "        # G wants D to think the fake images are real (label as 1)\n",
        "        misleading_labels = tf.ones((batch_size, 1)) \n",
        "\n",
        "        with tf.GradientTape() as tape:\n",
        "            fake_images = self.generator(noise, training=True)\n",
        "            pred_fake = self.discriminator(fake_images, training=True)\n",
        "            g_loss = self.loss_fn(misleading_labels, pred_fake)\n",
        "        # Compute generator gradients\n",
        "        grads = tape.gradient(g_loss, self.generator.trainable_variables)\n",
        "        # Update generator weights\n",
        "        self.g_optimizer.apply_gradients(zip(grads, self.generator.trainable_variables))\n",
        "\n",
        "        self.d_loss_metric.update_state(d_loss)\n",
        "        self.g_loss_metric.update_state(g_loss)\n",
        "\n",
        "        return {\"d_loss\": self.d_loss_metric.result(), \"g_loss\": self.g_loss_metric.result()}"
      ],
      "metadata": {
        "id": "ADHcDPDfU3Qf"
      },
      "execution_count": 13,
      "outputs": []
    },
    {
      "cell_type": "code",
      "source": [
        "class GANMonitor(keras.callbacks.Callback):\n",
        "    def __init__(self, num_img=3, latent_dim=100):\n",
        "        self.num_img = num_img\n",
        "        self.latent_dim = latent_dim\n",
        "\n",
        "        # Create random noise seed for visualization during training\n",
        "        self.seed = tf.random.normal([16, latent_dim])\n",
        "\n",
        "    def on_epoch_end(self, epoch, logs=None):\n",
        "        # random_latent_vectors = tf.random.normal(shape=(self.num_img, self.latent_dim))\n",
        "        # generated_images = self.model.generator(random_latent_vectors)\n",
        "        generated_images = self.model.generator(self.seed)\n",
        "        generated_images = (generated_images * 127.5) + 127.5\n",
        "        generated_images.numpy()\n",
        "\n",
        "        fig = plt.figure(figsize=(4, 4))\n",
        "        for i in range(self.num_img):\n",
        "            plt.subplot(4, 4, i+1)\n",
        "            img = keras.utils.array_to_img(generated_images[i]) \n",
        "            plt.imshow(img, cmap='gray')\n",
        "            plt.axis('off')\n",
        "        plt.savefig('epoch_{:03d}.png'.format(epoch)) \n",
        "        plt.show()\n",
        "\n",
        "    def on_train_end(self, logs=None):\n",
        "        self.model.generator.save('generator.h5')"
      ],
      "metadata": {
        "id": "QtNn61dwVEeq"
      },
      "execution_count": 14,
      "outputs": []
    },
    {
      "cell_type": "markdown",
      "source": [
        "integration"
      ],
      "metadata": {
        "id": "exIaotL1IJc0"
      }
    },
    {
      "cell_type": "code",
      "source": [
        "dcgan = DCGAN(discriminator=discriminator, generator=generator, latent_dim=LATENT_DIM)"
      ],
      "metadata": {
        "id": "djJ7j0AtVHg8"
      },
      "execution_count": 15,
      "outputs": []
    },
    {
      "cell_type": "markdown",
      "source": [
        "Compile"
      ],
      "metadata": {
        "id": "AaKLyy2dFceZ"
      }
    },
    {
      "cell_type": "code",
      "source": [
        "LR = 0.0002 # learning rate\n",
        "\n",
        "dcgan.compile(\n",
        "    d_optimizer=keras.optimizers.Adam(learning_rate=LR, beta_1 = 0.5),\n",
        "    g_optimizer=keras.optimizers.Adam(learning_rate=LR, beta_1 = 0.5),\n",
        "    loss_fn=keras.losses.BinaryCrossentropy(),\n",
        ")"
      ],
      "metadata": {
        "id": "N9Z_sgpDVKMr"
      },
      "execution_count": 16,
      "outputs": []
    },
    {
      "cell_type": "markdown",
      "source": [
        "Lets Begin"
      ],
      "metadata": {
        "id": "HaLZpRRdEu4C"
      }
    },
    {
      "cell_type": "code",
      "source": [
        "NUM_EPOCHS = 50 # number of epochs\n",
        "dcgan.fit(train_images, epochs=NUM_EPOCHS, callbacks=[GANMonitor(num_img=16, latent_dim=LATENT_DIM)])"
      ],
      "metadata": {
        "colab": {
          "base_uri": "https://localhost:8080/",
          "height": 625
        },
        "id": "zfqZQI2cVNpS",
        "outputId": "1bb03282-7322-4d7e-e125-e154c68cc1eb"
      },
      "execution_count": null,
      "outputs": [
        {
          "output_type": "stream",
          "name": "stdout",
          "text": [
            "Epoch 1/50\n",
            "1875/1875 [==============================] - ETA: 0s - d_loss: 0.2829 - g_loss: 1.3320"
          ]
        },
        {
          "output_type": "display_data",
          "data": {
            "text/plain": [
              "<Figure size 288x288 with 16 Axes>"
            ],
            "image/png": "[encoded data removed]"
          },
          "metadata": {
            "needs_background": "light"
          }
        },
        {
          "output_type": "stream",
          "name": "stdout",
          "text": [
            "\b\b\b\b\b\b\b\b\b\b\b\b\b\b\b\b\b\b\b\b\b\b\b\b\b\b\b\b\b\b\b\b\b\b\b\b\b\b\b\b\b\b\b\b\b\b\b\b\b\b\b\b\b\b\b\b\b\b\b\b\b\b\b\b\b\b\b\b\b\b\b\b\b\b\b\b\b\b\b\b\b\b\b\b\b\b\r1875/1875 [==============================] - 1715s 913ms/step - d_loss: 0.2829 - g_loss: 1.3320\n",
            "Epoch 2/50\n",
            "1875/1875 [==============================] - ETA: 0s - d_loss: 0.6098 - g_loss: 0.9949"
          ]
        },
        {
          "output_type": "display_data",
          "data": {
            "text/plain": [
              "<Figure size 288x288 with 16 Axes>"
            ],
            "image/png": "[encoded data removed]"
          },
          "metadata": {
            "needs_background": "light"
          }
        },
        {
          "output_type": "stream",
          "name": "stdout",
          "text": [
            "\b\b\b\b\b\b\b\b\b\b\b\b\b\b\b\b\b\b\b\b\b\b\b\b\b\b\b\b\b\b\b\b\b\b\b\b\b\b\b\b\b\b\b\b\b\b\b\b\b\b\b\b\b\b\b\b\b\b\b\b\b\b\b\b\b\b\b\b\b\b\b\b\b\b\b\b\b\b\b\b\b\b\b\b\b\b\r1875/1875 [==============================] - 1662s 886ms/step - d_loss: 0.6098 - g_loss: 0.9949\n",
            "Epoch 3/50\n",
            " 444/1875 [======>.......................] - ETA: 21:13 - d_loss: 0.6384 - g_loss: 0.9883"
          ]
        }
      ]
    }
  ]
}